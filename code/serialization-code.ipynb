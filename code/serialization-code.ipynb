{
 "cells": [
  {
   "cell_type": "code",
   "execution_count": null,
   "id": "8e1e3dcc",
   "metadata": {},
   "outputs": [],
   "source": [
    "# required libraries\n",
    "import os\n",
    "import pandas as pd\n",
    "import numpy as np\n",
    "from pathlib import Path\n",
    "# # Load the required libraries \n",
    "from rdflib import Graph, Literal, RDF, URIRef, Namespace\n",
    "# # rdflib knows about some namespaces, like FOAF \n",
    "from rdflib.namespace import FOAF, XSD\n",
    "# CHECK DATE \n",
    "import datetime"
   ]
  },
  {
   "cell_type": "code",
   "execution_count": null,
   "id": "b7a496ed",
   "metadata": {},
   "outputs": [],
   "source": [
    "# parameters and URLs\"\n",
    "path = str(Path(os.path.abspath(os.getcwd())).parent.absolute())\n",
    "print(\"Here is the path \"+ path)\n",
    "path = 'C:/Users/tamim/Desktop/semproject/csv'\n",
    "appearancesUrl = path + '/appearances.csv'\n",
    "clubGamesUrl = path + '/club_games.csv'\n",
    "clubUrl = path + '/clubs.csv'\n",
    "competitionsUrl = path + '/competitions.csv'\n",
    "gameEventsUrl = path + '/game_events.csv'\n",
    "gameLineupsUrl = path + '/game_lineups.csv'\n",
    "gamesUrl = path + '/games.csv'\n",
    "playerValuationsUrl = path + '/player_valuations.csv'\n",
    "playersUrl = path + '/players.csv'\n",
    "# country code\n",
    "countriesURL = path + '/wikipedia-iso-country-codes.csv'\n",
    "\n",
    "print(\"File paths are working perfectly.\")\n",
    "# saving folder\n",
    "savePath =  path + '/data/'\n",
    "print(\"executed all lines\")"
   ]
  },
  {
   "cell_type": "code",
   "execution_count": null,
   "id": "e17a34d9",
   "metadata": {},
   "outputs": [],
   "source": [
    "# Load the CSV files in memory\n",
    "\n",
    "print(\"load csv files\")\n",
    "comp = pd.read_csv(competitionsUrl, sep = ',', index_col = 'competition_code',keep_default_na=False, na_values=['_'])\n",
    "comp['domestic_league_code'] = comp['domestic_league_code'].fillna('')\n",
    "print(\"there is a problem\")\n",
    "comp.astype({'country_id': 'int32'}).dtypes"
   ]
  },
  {
   "cell_type": "code",
   "execution_count": null,
   "id": "98455e4b",
   "metadata": {},
   "outputs": [],
   "source": [
    "#load the country codes\\\n",
    "# we need to convert NaN values to something else otherwise NA strings are converted to NaN -> problem with Namibia\n",
    "countries = pd.read_csv(countriesURL, sep=',', index_col='Name', keep_default_na=False, na_values=['_'])"
   ]
  },
  {
   "cell_type": "code",
   "execution_count": null,
   "id": "c540b146",
   "metadata": {},
   "outputs": [],
   "source": [
    "comp.info()"
   ]
  },
  {
   "cell_type": "code",
   "execution_count": null,
   "id": "e785f6ee",
   "metadata": {},
   "outputs": [],
   "source": [
    "# Construct the country and the football ontology namespaces not known by RDFlib\\n\",\n",
    "CNS = Namespace(\"http://eulersharp.sourceforge.net/2003/03swap/countries#\")\n",
    "FO = Namespace(\"http://www.dei.unipd.it/database2/FootballOntology#\")\n"
   ]
  },
  {
   "cell_type": "code",
   "execution_count": null,
   "id": "6092eb51",
   "metadata": {},
   "outputs": [],
   "source": [
    "#create the graph\\\n",
    "g = Graph()\n",
    "# Bind the namespaces to a prefix for more readable output\\n\",\n",
    "g.bind(\"foaf\", FOAF)\n",
    "g.bind(\"xsd\", XSD)\n",
    "g.bind(\"countries\", CNS)\n",
    "g.bind(\"fo\", FO)\n"
   ]
  },
  {
   "cell_type": "code",
   "execution_count": null,
   "id": "5b6c2170",
   "metadata": {},
   "outputs": [],
   "source": [
    "%%time\n",
    "\n",
    "for index, row in comp.iterrows():\n",
    "    #Create the node to add to the Graph\n",
    "    #the node has the namespace + the movie id as URI\n",
    "    Competition = URIRef(FO[index])\n",
    "    # Add triples using store's add() method.\n",
    "    g.add((Competition, RDF.type, FO.Competition))\n",
    "    g.add((Competition, FO['competitionID'], Literal(row['competition_id'], datatype=XSD.string)))\n",
    "    g.add((Competition, FOAF['name'], Literal(row['name'], datatype=XSD.string)))\n",
    "    g.add((Competition, FO['competitionType'], Literal(row['type'], datatype=XSD.string)))\n",
    "    g.add((Competition, FO['subType'], Literal(row['sub_type'], datatype=XSD.string)))\n",
    "    g.add((Competition, FO['domesticLeagueCode'], Literal(row['domestic_league_code'], datatype=XSD.string)))                                                \n",
    "    g.add((Competition, FO['country_id'], Literal(row['country_id'], datatype=XSD.integer)))\n",
    "    g.add((Competition, FO['confederation'], Literal(row['confederation'], datatype=XSD.string)))\n",
    "    ## handle country\n",
    "    #there can be more than one country per competition\n",
    "    for c in str(row['country']).split(','):\n",
    "        # check if the country exists\n",
    "        # country.index == x returns an array of booleans, thus we need to use the any() method\n",
    "        cName = c.strip()\n",
    "        if((countries.index == cName).any() == True):\n",
    "            #get the country code, convert to string and get the lower case to match the country codes in the ontology\n",
    "            code = str(countries[countries.index == cName]['Alpha-2 code'][0]).lower()\n",
    "            # create the RDF node\n",
    "            Country = URIRef(CNS[code])\n",
    "             # add the edge connecting the Competition and the Country\n",
    "            g.add((Competition, FO['hasCountry'], Country))"
   ]
  },
  {
   "cell_type": "code",
   "execution_count": null,
   "id": "e71bc850",
   "metadata": {},
   "outputs": [],
   "source": [
    "%%time\n",
    "# print all the data in the Turtle format\n",
    "print(\"--- saving serialization ---\")\n",
    "with open(savePath + 'competitions.ttl', 'w', encoding='utf-8') as file:\n",
    "    file.write(g.serialize(format='turtle'))"
   ]
  },
  {
   "cell_type": "code",
   "execution_count": null,
   "id": "04674463",
   "metadata": {},
   "outputs": [],
   "source": [
    "# Load the CSV files in memory\n",
    "\n",
    "print(\"load csv files\")\n",
    "club = pd.read_csv(clubUrl, sep = ',',index_col='club_code', keep_default_na=False, na_values=['_'])\n",
    "club['domestic_competition_id'] = club['domestic_competition_id'].fillna('')\n",
    "club.info()\n"
   ]
  },
  {
   "cell_type": "code",
   "execution_count": null,
   "id": "d9d430d6",
   "metadata": {},
   "outputs": [],
   "source": [
    "# Load the CSV files in memory\\n\",\n",
    "\n",
    "\n",
    "club = pd.read_csv(clubUrl, sep=',', index_col='club_code', keep_default_na=False, na_values=['_'])\n",
    "club.astype({'club_id': 'string'}).dtypes\n",
    "club['average_age'] = club['average_age'].replace('', '0.0')\n",
    "club['average_age'] = club['average_age'].astype('float64')\n",
    "club['foreigners_percentage'] = club['average_age'].replace('', '0.0')\n",
    "club['foreigners_percentage'] = club['average_age'].astype('float64')\n"
   ]
  },
  {
   "cell_type": "code",
   "execution_count": null,
   "id": "00947c74",
   "metadata": {},
   "outputs": [],
   "source": [
    "club.info()"
   ]
  },
  {
   "cell_type": "code",
   "execution_count": null,
   "id": "e8c008e4",
   "metadata": {},
   "outputs": [],
   "source": [
    "%%time\n",
    "\n",
    "\n",
    "for index, row in club.iterrows():\n",
    "    Clubs = URIRef(FO[index]) \n",
    "    # Add triples for each row\n",
    "    g.add((Clubs, RDF.type, FO.Club))\n",
    "    g.add((Clubs, FO['clubID'], Literal(row['club_id'], datatype=XSD.string)))\n",
    "    g.add((Clubs, FOAF['name'], Literal(row['name'], datatype=XSD.string)))\n",
    "    g.add((Clubs, FO['domesticCompetitionID'], Literal(row['domestic_competition_id'], datatype=XSD.string)))\n",
    "    g.add((Clubs, FO['averageAge'], Literal(row['average_age'], datatype=XSD.decimal)))\n",
    "    g.add((Clubs, FO['lastSeason'], Literal(row['last_season'], datatype=XSD.gYear)))\n",
    "    g.add((Clubs, FO['squadSize'], Literal(row['squad_size'], datatype=XSD.integer)))\n",
    "    g.add((Clubs, FO['foreigners'], Literal(row['foreigners_number'], datatype=XSD.integer)))\n",
    "    g.add((Clubs, FO['foreignersPercentage'], Literal(row['foreigners_percentage'], datatype=XSD.decimal)))\n",
    "    g.add((Clubs, FO['nationalTeamPlayers'], Literal(row['national_team_players'], datatype=XSD.integer)))\n",
    "    "
   ]
  },
  {
   "cell_type": "code",
   "execution_count": null,
   "id": "040425f4",
   "metadata": {},
   "outputs": [],
   "source": [
    "%%time\n",
    "# print all the data in the Turtle format\n",
    "print(\"--- saving serialization ---\")\n",
    "with open(savePath + 'club.ttl', 'w',encoding='utf-8') as file:\n",
    "    file.write(g.serialize(format='turtle'))"
   ]
  },
  {
   "cell_type": "code",
   "execution_count": null,
   "id": "3e01541f",
   "metadata": {},
   "outputs": [],
   "source": [
    "# Load the CSV files in memory\\n\",\n",
    "print(\"load csv files\")\n",
    "players = pd.read_csv(playersUrl, sep = ',', index_col = 'player_code')\n",
    "players.info()\n",
    "players.astype({'player_id': 'string'}).dtypes\n",
    "players.astype({'current_club_id': 'string'}).dtypes\n",
    "players['agent_name'] = players['agent_name'].fillna('')\n",
    "players['height_in_cm'] = players['height_in_cm'].fillna(players['height_in_cm'].mean())\n",
    "players['market_value_in_eur'] = players['market_value_in_eur'].fillna(round(players['market_value_in_eur'].mean(),2))"
   ]
  },
  {
   "cell_type": "code",
   "execution_count": null,
   "id": "9c691060",
   "metadata": {},
   "outputs": [],
   "source": [
    "players.info()"
   ]
  },
  {
   "cell_type": "code",
   "execution_count": null,
   "id": "b3378e69",
   "metadata": {},
   "outputs": [],
   "source": [
    "%%time\n",
    "\n",
    "for index, row in players.iterrows():\n",
    "    #Create the node to add to the Graph\n",
    "    #the node has the namespace + the movie id as URI\n",
    "    player = URIRef(FO[index])\n",
    "    # Add triples using store's add() method.\n",
    "    g.add((player, RDF.type, FO.Player))\n",
    "    g.add((player, FO['playerID'], Literal(row['player_id'], datatype=XSD.string)))\n",
    "    g.add((player, FOAF['firstName'], Literal(row['first_name'], datatype=XSD.string)))\n",
    "    g.add((player, FOAF['lastName'], Literal(row['last_name'], datatype=XSD.string)))\n",
    "    g.add((player, FOAF['name'], Literal(row['name'], datatype=XSD.string)))\n",
    "    g.add((player, FO['lastSeason'], Literal(row['last_season'], datatype=XSD.gYear)))                                                \n",
    "    g.add((player, FO['DomesticCompetition'], Literal(row['current_club_domestic_competition_id'], datatype=XSD.string)))\n",
    "    g.add((player, FO['ClubID'], Literal(row['current_club_id'], datatype=XSD.string)))\n",
    "    g.add((player, FO['ClubName'], Literal(row['current_club_name'], datatype=XSD.string)))\n",
    "    g.add((player, FO['height'], Literal(row['height_in_cm'], datatype=XSD.integer)))\n",
    "    g.add((player, FO['cityOfBirth'], Literal(row['city_of_birth'], datatype=XSD.string)))\n",
    "    t = row['country_of_birth']\n",
    "    if((countries.index == t).any() == True):\n",
    "        code = str(countries[countries.index == t]['Alpha-2 code'][0]).lower()\n",
    "        bCountry = URIRef(CNS[code])\n",
    "    g.add((player, FO['birthCountry'], bCountry))\n",
    "    ## handle country\n",
    "    #there can be more than one country per competition\n",
    "    for c in str(row['country_of_citizenship']).split(','):\n",
    "        # check if the country exists\n",
    "        # country.index == x returns an array of booleans, thus we need to use the any() method\n",
    "        cName = c.strip()\n",
    "        if((countries.index == cName).any() == True):\n",
    "            #get the country code, convert to string and get the lower case to match the country codes in the ontology\n",
    "            code = str(countries[countries.index == cName]['Alpha-2 code'][0]).lower()\n",
    "            # create the RDF node\n",
    "            Country = URIRef(CNS[code])\n",
    "             # add the edge connecting the Competition and the Country\n",
    "            g.add((player, FO['hasCountry'], Country))\n",
    "    g.add((player,FO['birthDate'], Literal(row['date_of_birth'], datatype=XSD.date)))\n",
    "    g.add((player, FO['position'], Literal(row['position'], datatype=XSD.string)))\n",
    "    g.add((player, FO['agentName'], Literal(row['agent_name'], datatype=XSD.string)))\n",
    "    g.add((player, FO['marketValue'], Literal(row['market_value_in_eur'], datatype=XSD.decimal)))"
   ]
  },
  {
   "cell_type": "code",
   "execution_count": null,
   "id": "633ad54b",
   "metadata": {},
   "outputs": [],
   "source": [
    "%%time\n",
    "# print all the data in the Turtle format\n",
    "print(\"--- saving serialization ---\")\n",
    "with open(savePath + 'player.ttl', 'w', newline='', encoding='utf-8') as file:\n",
    "    file.write(g.serialize(format='turtle'))"
   ]
  },
  {
   "cell_type": "code",
   "execution_count": null,
   "id": "3d3826f3",
   "metadata": {},
   "outputs": [],
   "source": [
    "# Load the CSV files in memory\n",
    "\n",
    "print(\"load csv files\")\n",
    "games = pd.read_csv(gamesUrl, sep = ',', index_col = 'url')\n",
    "print(\"there is a problem\")\n",
    "games.info()"
   ]
  },
  {
   "cell_type": "code",
   "execution_count": null,
   "id": "1d42d59c",
   "metadata": {},
   "outputs": [],
   "source": [
    "%%time\n",
    "\n",
    "for index, row in  games.iterrows():\n",
    "    #Create the node to add to the Graph\n",
    "    #the node has the namespace + the movie id as URI\n",
    "    Game = URIRef(FO[index])\n",
    "    # Add triples using store's add() method.\n",
    "    g.add((Game, RDF.type, FO.Game))\n",
    "    g.add((Game, FO['gameID'], Literal(row['game_id'], datatype=XSD.integer)))\n",
    "    g.add((Game, FO['competitionID'], Literal(row['competition_id'], datatype=XSD.string)))\n",
    "    g.add((Game, FO['season'], Literal(row['season'], datatype=XSD.gYear)))\n",
    "    g.add((Game, FO['date'], Literal(row['date'], datatype=XSD.date)))\n",
    "    g.add((Game, FO['homeClubID'], Literal(row['home_club_id'], datatype=XSD.string)))                                            \n",
    "    g.add((Game, FO['awayClubID'], Literal(row['away_club_id'], datatype=XSD.string)))\n",
    "    g.add((Game, FO['homeClubGoals'], Literal(row['home_club_goals'], datatype=XSD.integer)))\n",
    "    g.add((Game, FO['awayClubGoals'], Literal(row['away_club_goals'], datatype=XSD.integer)))\n",
    "    g.add((Game, FO['referee'], Literal(row['referee'], datatype=XSD.string)))\n",
    "  "
   ]
  },
  {
   "cell_type": "code",
   "execution_count": null,
   "id": "8e6ec0af",
   "metadata": {},
   "outputs": [],
   "source": [
    "%%time\n",
    "# print all the data in the Turtle format\n",
    "print(\"--- saving serialization ---\")\n",
    "with open(savePath + 'games.ttl', 'w', encoding='utf-8') as file:\n",
    "    file.write(g.serialize(format='turtle'))"
   ]
  },
  {
   "cell_type": "code",
   "execution_count": null,
   "id": "cf528ec8",
   "metadata": {},
   "outputs": [],
   "source": [
    "# Load the CSV files in memory\\n\",\n",
    "player_val = pd.read_csv(playerValuationsUrl, sep=',', index_col='valuation_id', keep_default_na=False, na_values=['_'])"
   ]
  },
  {
   "cell_type": "code",
   "execution_count": null,
   "id": "10a90f5c",
   "metadata": {},
   "outputs": [],
   "source": [
    "# Load the CSV files in memory\n",
    "\n",
    "print(\"load csv files\")\n",
    "player_val = pd.read_csv(playerValuationsUrl, sep = ',', index_col = 'valuation_id')\n",
    "print(\"there is a problem\")\n",
    "\n",
    "player_val['date'] = pd.to_datetime(player_val['date'])\n",
    "player_val['date']  = player_val['date'].dt.strftime('%Y-%m-%d')\n",
    "player_val['market_value_in_eur'] =  pd.to_numeric(player_val['market_value_in_eur'], errors='coerce').astype(float)\n",
    "player_val['market_value_in_eur'] = player_val['market_value_in_eur'].fillna(player_val['market_value_in_eur'].mean())\n",
    "\n"
   ]
  },
  {
   "cell_type": "code",
   "execution_count": null,
   "id": "2b5e3321",
   "metadata": {},
   "outputs": [],
   "source": [
    "%%time\n",
    "\n",
    "for index, row in player_val.iterrows():\n",
    "    #Create the node to add to the Graph\n",
    "    #the node has the namespace + the movie id as URI\n",
    "    Valuation = URIRef(FO[index])\n",
    "    # Add triples using store's add() method.\n",
    "    g.add((Valuation, RDF.type, FO.Valuation))\n",
    "    g.add((Valuation, FO['playerID'], Literal(row['player_id'], datatype=XSD.string)))\n",
    "    g.add((Valuation, FO['date'], Literal(row['date'], datatype=XSD.date)))\n",
    "    g.add((Valuation, FO['marketValue'], Literal(row['market_value_in_eur'], datatype=XSD.decimal)))                                                \n",
    "    g.add((Valuation, FO['clubID'], Literal(row['current_club_id'], datatype=XSD.string)))"
   ]
  },
  {
   "cell_type": "code",
   "execution_count": null,
   "id": "185e71d7",
   "metadata": {},
   "outputs": [],
   "source": [
    "%%time\n",
    "# print all the data in the Turtle format\n",
    "print(\"--- saving serialization ---\")\n",
    "with open(savePath + 'valuation.ttl', 'w', encoding='utf-8') as file:\n",
    "    file.write(g.serialize(format='turtle'))"
   ]
  },
  {
   "cell_type": "code",
   "execution_count": null,
   "id": "e57ef64f",
   "metadata": {},
   "outputs": [],
   "source": [
    "print(\"load csv files\")\n",
    "gameEvents = pd.read_csv(gameEventsUrl, sep = ',', index_col = 'game_event_id', keep_default_na=False, na_values=['_'])\n",
    "gameEvents['description']=gameEvents['description'].fillna('')\n",
    "gameEvents['type']=gameEvents['type'].fillna('')\n",
    "gameEvents['minute']=gameEvents['minute'].fillna(gameEvents['minute'].mean())\n"
   ]
  },
  {
   "cell_type": "code",
   "execution_count": null,
   "id": "3ed52d11",
   "metadata": {},
   "outputs": [],
   "source": [
    "gameEvents.info()"
   ]
  },
  {
   "cell_type": "code",
   "execution_count": null,
   "id": "e08a3e61",
   "metadata": {},
   "outputs": [],
   "source": [
    "%%time\n",
    "\n",
    "for index, row in gameEvents.iterrows():\n",
    "    #Create the node to add to the Graph\n",
    "    #the node has the namespace + the player id as URI\n",
    "    GameEvent = URIRef(FO[index])\n",
    "    # Add triples using store's add() method.\n",
    "    g.add((GameEvent, RDF.type, FO.GameEvent))\n",
    "    g.add((GameEvent, FO['date'], Literal(row['date'], datatype=XSD.date)))\n",
    "    g.add((GameEvent, FO['gameID'], Literal(row['game_id'], datatype=XSD.string)))\n",
    "    g.add((GameEvent, FO['minute'], Literal(row['minute'], datatype=XSD.integer)))\n",
    "    g.add((GameEvent, FO['eventType'], Literal(row['type'], datatype=XSD.string)))\n",
    "    g.add((GameEvent, FO['clubID'], Literal(row['club_id'], datatype=XSD.string)))                                                                                    \n",
    "    g.add((GameEvent, FO['playerID'], Literal(row['player_id'], datatype=XSD.string)))\n",
    "    g.add((GameEvent, FO['description'], Literal(row['description'], datatype=XSD.string)))\n",
    "    g.add((GameEvent, FO['playerInID'], Literal(row['player_in_id'], datatype=XSD.string)))\n",
    "    g.add((GameEvent, FO['playerAssistID'], Literal(row['player_assist_id'], datatype=XSD.string)))"
   ]
  },
  {
   "cell_type": "code",
   "execution_count": null,
   "id": "7189e0d8",
   "metadata": {},
   "outputs": [],
   "source": [
    "%%time\n",
    "# print all the data in the Turtle format\n",
    "print(\"--- saving serialization ---\")\n",
    "with open(savePath + 'GameEvents.ttl', 'w', encoding='utf-8') as file:\n",
    "    file.write(g.serialize(format='turtle'))"
   ]
  },
  {
   "cell_type": "code",
   "execution_count": null,
   "id": "e9c20b5e",
   "metadata": {},
   "outputs": [],
   "source": [
    "print(\"load csv files\")\n",
    "gameLineUp = pd.read_csv(gameLineupsUrl, sep = ',', index_col = 'game_lineups_id')\n",
    "print(\"there is a problem\")\n",
    "gameLineUp.astype({'team_captain': 'int32'}).dtypes\n"
   ]
  },
  {
   "cell_type": "code",
   "execution_count": null,
   "id": "dfda7fb6",
   "metadata": {},
   "outputs": [],
   "source": [
    "gameLineUp.info()"
   ]
  },
  {
   "cell_type": "code",
   "execution_count": null,
   "id": "248e0c7b",
   "metadata": {},
   "outputs": [],
   "source": [
    "%%time\n",
    "\n",
    "for index, row in gameLineUp.iterrows():\n",
    "    #Create the node to add to the Graph\n",
    "    #the node has the namespace + the player id as URI\n",
    "    GameLineUp = URIRef(FO[index])\n",
    "    # Add triples using store's add() method.\n",
    "    g.add((GameLineUp, RDF.type, FO.GameLineUp))\n",
    "    \n",
    "    g.add((GameLineUp, FO['ClubID'], Literal(row['club_id'], datatype=XSD.string)))\n",
    "    g.add((GameLineUp, FO['lineUpType'], Literal(row['type'], datatype=XSD.string)))\n",
    "    g.add((GameLineUp, FO['PlayerID'], Literal(row['player_id'], datatype=XSD.string)))\n",
    "    g.add((GameLineUp, FO['PlayerName'], Literal(row['player_name'], datatype=XSD.string)))                                           \n",
    "    g.add((GameLineUp, FO['PlayerPosition'], Literal(row['position'], datatype=XSD.string)))                                                                                                \n",
    "    g.add((GameLineUp, FO['gameID'], Literal(row['game_id'], datatype=XSD.string)))\n",
    "    g.add((GameLineUp, FO['jerseyNumber'], Literal(row['number'], datatype=XSD.string)))"
   ]
  },
  {
   "cell_type": "code",
   "execution_count": null,
   "id": "2808930e",
   "metadata": {},
   "outputs": [],
   "source": [
    "%%time\n",
    "# print all the data in the Turtle format\n",
    "print(\"--- saving serialization ---\")\n",
    "with open(savePath + 'GameLineUp.ttl', 'w', encoding='utf-8') as file:\n",
    "    file.write(g.serialize(format='turtle'))"
   ]
  },
  {
   "cell_type": "code",
   "execution_count": null,
   "id": "1b848b89",
   "metadata": {},
   "outputs": [],
   "source": [
    "print(\"load csv files\")\n",
    "appearances = pd.read_csv(appearancesUrl, sep = ',', index_col = 'appearance_id')\n",
    "appearances.info()\n",
    "appearances.astype({'player_id': 'string'}).dtypes\n",
    "appearances.astype({'player_club_id': 'string'}).dtypes\n",
    "appearances.astype({'player_current_club_id': 'string'}).dtypes\n",
    "# Convert the column to date format\n",
    "appearances['date'] = pd.to_datetime(appearances['date'])\n",
    "appearances['date']  = appearances['date'].dt.strftime('%Y-%m-%d')"
   ]
  },
  {
   "cell_type": "code",
   "execution_count": null,
   "id": "777770b8",
   "metadata": {},
   "outputs": [],
   "source": [
    "%%time\n",
    "\n",
    "for index, row in appearances.iterrows():\n",
    "    #Create the node to add to the Graph\n",
    "    #the node has the namespace + the appearance id as URI\n",
    "    Appearance = URIRef(FO[index])\n",
    "    # Add triples using store's add() method.\n",
    "    g.add((Appearance, RDF.type, FO.Appearance))\n",
    "    \n",
    "    g.add((Appearance, FO['gameID'], Literal(row['game_id'], datatype=XSD.string)))\n",
    "    g.add((Appearance, FO['playerID'], Literal(row['player_id'], datatype=XSD.string)))\n",
    "    g.add((Appearance, FO['clubID'], Literal(row['player_club_id'], datatype=XSD.string)))\n",
    "    g.add((Appearance, FO['date'], Literal(row['date'], datatype=XSD.date)))                                           \n",
    "    g.add((Appearance, FO['playerName'], Literal(row['player_name'], datatype=XSD.string)))                                                                                                \n",
    "    g.add((Appearance, FO['yellowCards'], Literal(row['yellow_cards'], datatype=XSD.integer)))\n",
    "    g.add((Appearance, FO['redCards'], Literal(row['red_cards'], datatype=XSD.integer)))\n",
    "    g.add((Appearance, FO['assists'], Literal(row['assists'], datatype=XSD.integer)))\n",
    "    g.add((Appearance, FO['minutesPlayed'], Literal(row['minutes_played'], datatype=XSD.integer)))"
   ]
  },
  {
   "cell_type": "code",
   "execution_count": null,
   "id": "6b1e1f21",
   "metadata": {},
   "outputs": [],
   "source": [
    "%%time\n",
    "# print all the data in the Turtle format\n",
    "print(\"--- saving serialization ---\")\n",
    "with open(savePath + 'Appearances.ttl', 'w', encoding='utf-8') as file:\n",
    "    file.write(g.serialize(format='turtle'))"
   ]
  },
  {
   "cell_type": "code",
   "execution_count": null,
   "id": "05a2b9e0",
   "metadata": {},
   "outputs": [],
   "source": []
  }
 ],
 "metadata": {
  "kernelspec": {
   "display_name": "Python 3 (ipykernel)",
   "language": "python",
   "name": "python3"
  },
  "language_info": {
   "codemirror_mode": {
    "name": "ipython",
    "version": 3
   },
   "file_extension": ".py",
   "mimetype": "text/x-python",
   "name": "python",
   "nbconvert_exporter": "python",
   "pygments_lexer": "ipython3",
   "version": "3.9.7"
  }
 },
 "nbformat": 4,
 "nbformat_minor": 5
}
