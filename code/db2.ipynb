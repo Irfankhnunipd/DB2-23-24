{
 "cells": [
  {
   "cell_type": "code",
   "execution_count": 1,
   "id": "8e1e3dcc",
   "metadata": {},
   "outputs": [],
   "source": [
    "# required libraries\n",
    "import os\n",
    "import pandas as pd\n",
    "import numpy as np\n",
    "from pathlib import Path\n",
    "# # Load the required libraries \n",
    "from rdflib import Graph, Literal, RDF, URIRef, Namespace\n",
    "# # rdflib knows about some namespaces, like FOAF \n",
    "from rdflib.namespace import FOAF, XSD\n",
    "# CHECK DATE \n",
    "import datetime"
   ]
  },
  {
   "cell_type": "code",
   "execution_count": 2,
   "id": "b7a496ed",
   "metadata": {},
   "outputs": [
    {
     "name": "stdout",
     "output_type": "stream",
     "text": [
      "Here is the path C:\\Users\\39344\\Desktop\n",
      "File paths are working perfectly.\n",
      "executed all lines\n"
     ]
    }
   ],
   "source": [
    "# parameters and URLs\"\n",
    "path = str(Path(os.path.abspath(os.getcwd())).parent.absolute())\n",
    "print(\"Here is the path \"+ path)\n",
    "path = 'C:/Users/39344/Desktop/semproject/csv'\n",
    "appearancesUrl = path + '/appearances.csv'\n",
    "clubGamesUrl = path + '/club_games.csv'\n",
    "clubUrl = path + '/clubs.csv'\n",
    "competitionsUrl = path + '/competitions.csv'\n",
    "gameEventsUrl = path + '/game_events.csv'\n",
    "gameLineupsUrl = path + '/game_lineups.csv'\n",
    "gamesUrl = path + '/games.csv'\n",
    "playerValuationsUrl = path + '/player_valuations.csv'\n",
    "playersUrl = path + '/players.csv'\n",
    "\n",
    "# country code\n",
    "countriesURL = path + '/wikipedia-iso-country-codes.csv'\n",
    "\n",
    "print(\"File paths are working perfectly.\")\n",
    "# saving folder\n",
    "savePath =  path + '/data/'\n",
    "print(\"executed all lines\")"
   ]
  },
  {
   "cell_type": "code",
   "execution_count": 3,
   "id": "e17a34d9",
   "metadata": {},
   "outputs": [
    {
     "name": "stdout",
     "output_type": "stream",
     "text": [
      "load csv files\n",
      "there is a problem\n"
     ]
    },
    {
     "data": {
      "text/plain": [
       "competition_code        object\n",
       "name                    object\n",
       "sub_type                object\n",
       "type                    object\n",
       "country_id               int32\n",
       "country                 object\n",
       "domestic_league_code    object\n",
       "confederation           object\n",
       "url                     object\n",
       "dtype: object"
      ]
     },
     "execution_count": 3,
     "metadata": {},
     "output_type": "execute_result"
    }
   ],
   "source": [
    "# Load the CSV files in memory\n",
    "\n",
    "print(\"load csv files\")\n",
    "comp = pd.read_csv(competitionsUrl, sep = ',', index_col = 'competition_id')\n",
    "print(\"there is a problem\")\n",
    "comp.astype({'country_id': 'int32'}).dtypes"
   ]
  },
  {
   "cell_type": "code",
   "execution_count": 4,
   "id": "98455e4b",
   "metadata": {},
   "outputs": [],
   "source": [
    "#load the country codes\\\n",
    "# we need to convert NaN values to something else otherwise NA strings are converted to NaN -> problem with Namibia\n",
    "countries = pd.read_csv(countriesURL, sep=',', index_col='Name', keep_default_na=False, na_values=['_'])"
   ]
  },
  {
   "cell_type": "code",
   "execution_count": 5,
   "id": "c540b146",
   "metadata": {},
   "outputs": [
    {
     "name": "stdout",
     "output_type": "stream",
     "text": [
      "<class 'pandas.core.frame.DataFrame'>\n",
      "Index: 43 entries, CIT to FRCH\n",
      "Data columns (total 9 columns):\n",
      " #   Column                Non-Null Count  Dtype \n",
      "---  ------                --------------  ----- \n",
      " 0   competition_code      43 non-null     object\n",
      " 1   name                  43 non-null     object\n",
      " 2   sub_type              43 non-null     object\n",
      " 3   type                  43 non-null     object\n",
      " 4   country_id            43 non-null     int64 \n",
      " 5   country               36 non-null     object\n",
      " 6   domestic_league_code  36 non-null     object\n",
      " 7   confederation         43 non-null     object\n",
      " 8   url                   43 non-null     object\n",
      "dtypes: int64(1), object(8)\n",
      "memory usage: 3.4+ KB\n"
     ]
    }
   ],
   "source": [
    "comp.info()"
   ]
  },
  {
   "cell_type": "code",
   "execution_count": 6,
   "id": "e785f6ee",
   "metadata": {},
   "outputs": [],
   "source": [
    "# Construct the country and the movie ontology namespaces not known by RDFlib\\n\",\n",
    "CNS = Namespace(\"http://eulersharp.sourceforge.net/2003/03swap/countries#\")\n",
    "CO = Namespace(\"http://www.dei.unipd.it/database2/competitionOntology#\")\n",
    "CB = Namespace(\"http://www.dei.unipd.it/database2/clubOntology#\")\n",
    "PO = Namespace(\"http://www.dei.unipd.it/database2/playersOntology#\")"
   ]
  },
  {
   "cell_type": "code",
   "execution_count": 7,
   "id": "6092eb51",
   "metadata": {},
   "outputs": [],
   "source": [
    "#create the graph\\\n",
    "g = Graph()\n",
    "# Bind the namespaces to a prefix for more readable output\\n\",\n",
    "g.bind(\"foaf\", FOAF)\n",
    "g.bind(\"xsd\", XSD)\n",
    "g.bind(\"countries\", CNS)\n",
    "g.bind(\"co\", CO)\n",
    "g.bind(\"cb\", CB)\n",
    "g.bind(\"po\", PO)"
   ]
  },
  {
   "cell_type": "code",
   "execution_count": 8,
   "id": "2f252d47",
   "metadata": {},
   "outputs": [],
   "source": [
    "# CHECK DATE\n",
    "import datetime"
   ]
  },
  {
   "cell_type": "code",
   "execution_count": 9,
   "id": "5b6c2170",
   "metadata": {},
   "outputs": [
    {
     "name": "stdout",
     "output_type": "stream",
     "text": [
      "CPU times: total: 31.2 ms\n",
      "Wall time: 37.8 ms\n"
     ]
    }
   ],
   "source": [
    "%%time\n",
    "#iterate over the movies dataframe\n",
    "for index, row in comp.iterrows():\n",
    "    #Create the node to add to the Graph\n",
    "    #the node has the namespace + the movie id as URI\n",
    "    Competition = URIRef(CO[index])\n",
    "    # Add triples using store's add() method.\n",
    "    g.add((Competition, RDF.type, CO.Competition))\n",
    "    g.add((Competition, CO['competitionName'], Literal(row['name'], datatype=XSD.string)))\n",
    "    g.add((Competition, CO['competitionType'], Literal(row['type'], datatype=XSD.string)))\n",
    "    g.add((Competition, CO['subType'], Literal(row['sub_type'], datatype=XSD.string)))\n",
    "    g.add((Competition, CO['domesticLeagueCode'], Literal(row['domestic_league_code'], datatype=XSD.string)))                                                \n",
    "    g.add((Competition, CO['country_id'], Literal(row['country_id'], datatype=XSD.integer)))\n",
    "    \n",
    "    ## handle country\n",
    "    #there can be more than one country per competition\n",
    "    for c in str(row['country']).split(','):\n",
    "        # check if the country exists\n",
    "        # country.index == x returns an array of booleans, thus we need to use the any() method\n",
    "        cName = c.strip()\n",
    "        if((countries.index == cName).any() == True):\n",
    "            #get the country code, convert to string and get the lower case to match the country codes in the ontology\n",
    "            code = str(countries[countries.index == cName]['Alpha-2 code'][0]).lower()\n",
    "            # create the RDF node\n",
    "            Country = URIRef(CNS[code])\n",
    "             # add the edge connecting the Competition and the Country\n",
    "            g.add((Competition, CO['hasCountry'], Country))"
   ]
  },
  {
   "cell_type": "code",
   "execution_count": 10,
   "id": "e71bc850",
   "metadata": {},
   "outputs": [
    {
     "name": "stdout",
     "output_type": "stream",
     "text": [
      "--- saving serialization ---\n",
      "CPU times: total: 31.2 ms\n",
      "Wall time: 15.3 ms\n"
     ]
    }
   ],
   "source": [
    "%%time\n",
    "# print all the data in the Turtle format\n",
    "print(\"--- saving serialization ---\")\n",
    "with open(savePath + 'competitions.ttl', 'w') as file:\n",
    "    file.write(g.serialize(format='turtle'))"
   ]
  },
  {
   "cell_type": "code",
   "execution_count": 13,
   "id": "04674463",
   "metadata": {},
   "outputs": [
    {
     "name": "stdout",
     "output_type": "stream",
     "text": [
      "load csv files\n",
      "there is a problem\n"
     ]
    },
    {
     "data": {
      "text/plain": [
       "club_code                   object\n",
       "name                        object\n",
       "domestic_competition_id     object\n",
       "total_market_value         float64\n",
       "squad_size                   int64\n",
       "average_age                float64\n",
       "foreigners_number            int64\n",
       "foreigners_percentage      float64\n",
       "national_team_players        int32\n",
       "stadium_name                object\n",
       "stadium_seats                int64\n",
       "net_transfer_record         object\n",
       "coach_name                 float64\n",
       "last_season                  int64\n",
       "url                         object\n",
       "dtype: object"
      ]
     },
     "execution_count": 13,
     "metadata": {},
     "output_type": "execute_result"
    }
   ],
   "source": [
    "# Load the CSV files in memory\n",
    "\n",
    "print(\"load csv files\")\n",
    "club = pd.read_csv(clubUrl, sep = ',', index_col = 'club_id')\n",
    "print(\"there is a problem\")\n",
    "club.astype({'national_team_players': 'int32'}).dtypes"
   ]
  },
  {
   "cell_type": "code",
   "execution_count": 24,
   "id": "d9d430d6",
   "metadata": {},
   "outputs": [],
   "source": [
    "# Load the CSV files in memory\\n\",\n",
    "club = pd.read_csv(clubUrl, sep=',', index_col='club_id', keep_default_na=False, na_values=['_'])"
   ]
  },
  {
   "cell_type": "code",
   "execution_count": 14,
   "id": "00947c74",
   "metadata": {},
   "outputs": [
    {
     "name": "stdout",
     "output_type": "stream",
     "text": [
      "<class 'pandas.core.frame.DataFrame'>\n",
      "Index: 426 entries, 105 to 984\n",
      "Data columns (total 15 columns):\n",
      " #   Column                   Non-Null Count  Dtype  \n",
      "---  ------                   --------------  -----  \n",
      " 0   club_code                426 non-null    object \n",
      " 1   name                     426 non-null    object \n",
      " 2   domestic_competition_id  426 non-null    object \n",
      " 3   total_market_value       0 non-null      float64\n",
      " 4   squad_size               426 non-null    int64  \n",
      " 5   average_age              388 non-null    float64\n",
      " 6   foreigners_number        426 non-null    int64  \n",
      " 7   foreigners_percentage    379 non-null    float64\n",
      " 8   national_team_players    426 non-null    int64  \n",
      " 9   stadium_name             426 non-null    object \n",
      " 10  stadium_seats            426 non-null    int64  \n",
      " 11  net_transfer_record      426 non-null    object \n",
      " 12  coach_name               0 non-null      float64\n",
      " 13  last_season              426 non-null    int64  \n",
      " 14  url                      426 non-null    object \n",
      "dtypes: float64(4), int64(5), object(6)\n",
      "memory usage: 53.2+ KB\n"
     ]
    }
   ],
   "source": [
    "club.info()"
   ]
  },
  {
   "cell_type": "code",
   "execution_count": 15,
   "id": "6c006a50",
   "metadata": {},
   "outputs": [],
   "source": [
    "#create a new graph\n",
    "g = Graph()"
   ]
  },
  {
   "cell_type": "code",
   "execution_count": 19,
   "id": "e8c008e4",
   "metadata": {},
   "outputs": [
    {
     "name": "stdout",
     "output_type": "stream",
     "text": [
      "CPU times: total: 78.1 ms\n",
      "Wall time: 77.4 ms\n"
     ]
    }
   ],
   "source": [
    "%%time\n",
    "\n",
    "# Iterate over the DataFrame rows\n",
    "for index, row in club.iterrows():\n",
    "    # Create a URI for the club\n",
    "    Clubs = URIRef(CB[index])\n",
    "    \n",
    "    # Add triples for each row\n",
    "    g.add((Clubs, RDF.type, CB.Clubs))\n",
    "    g.add((Clubs, CB['fullname'], Literal(row['name'], datatype=XSD.string)))\n",
    "    g.add((Clubs, CB['squadSize'], Literal(row['squad_size'], datatype=XSD.integer)))\n",
    "    g.add((Clubs, CB['foreigners'], Literal(row['foreigners_number'], datatype=XSD.integer)))\n",
    "# Bind namespaces for more readable output\n",
    "g.bind(\"foaf\", FOAF)\n",
    "g.bind(\"xsd\", XSD)\n",
    "g.bind(\"countries\", CNS)\n",
    "g.bind(\"co\", CO)\n",
    "g.bind(\"cb\", CB)\n"
   ]
  },
  {
   "cell_type": "code",
   "execution_count": 20,
   "id": "040425f4",
   "metadata": {},
   "outputs": [
    {
     "name": "stdout",
     "output_type": "stream",
     "text": [
      "--- saving serialization ---\n",
      "CPU times: total: 46.9 ms\n",
      "Wall time: 65.4 ms\n"
     ]
    }
   ],
   "source": [
    "%%time\n",
    "# print all the data in the Turtle format\n",
    "print(\"--- saving serialization ---\")\n",
    "with open(savePath + 'club.ttl', 'w') as file:\n",
    "    file.write(g.serialize(format='turtle'))"
   ]
  },
  {
   "cell_type": "code",
   "execution_count": 11,
   "id": "3e01541f",
   "metadata": {},
   "outputs": [],
   "source": [
    "# Load the CSV files in memory\\n\",\n",
    "people = pd.read_csv(playersUrl, sep=',', index_col='player_id', keep_default_na=False, na_values=['_'])"
   ]
  },
  {
   "cell_type": "code",
   "execution_count": 12,
   "id": "9c691060",
   "metadata": {},
   "outputs": [
    {
     "name": "stdout",
     "output_type": "stream",
     "text": [
      "<class 'pandas.core.frame.DataFrame'>\n",
      "Index: 30302 entries, 598 to 925584\n",
      "Data columns (total 22 columns):\n",
      " #   Column                                Non-Null Count  Dtype \n",
      "---  ------                                --------------  ----- \n",
      " 0   first_name                            30302 non-null  object\n",
      " 1   last_name                             30302 non-null  object\n",
      " 2   name                                  30302 non-null  object\n",
      " 3   last_season                           30302 non-null  int64 \n",
      " 4   current_club_id                       30302 non-null  int64 \n",
      " 5   player_code                           30302 non-null  object\n",
      " 6   country_of_birth                      30302 non-null  object\n",
      " 7   city_of_birth                         30302 non-null  object\n",
      " 8   country_of_citizenship                30302 non-null  object\n",
      " 9   date_of_birth                         30302 non-null  object\n",
      " 10  sub_position                          30302 non-null  object\n",
      " 11  position                              30302 non-null  object\n",
      " 12  foot                                  30302 non-null  object\n",
      " 13  height_in_cm                          30302 non-null  object\n",
      " 14  market_value_in_eur                   30302 non-null  object\n",
      " 15  highest_market_value_in_eur           30302 non-null  object\n",
      " 16  contract_expiration_date              30302 non-null  object\n",
      " 17  agent_name                            30302 non-null  object\n",
      " 18  image_url                             30302 non-null  object\n",
      " 19  url                                   30302 non-null  object\n",
      " 20  current_club_domestic_competition_id  30302 non-null  object\n",
      " 21  current_club_name                     30302 non-null  object\n",
      "dtypes: int64(2), object(20)\n",
      "memory usage: 5.3+ MB\n"
     ]
    }
   ],
   "source": [
    "people.info()"
   ]
  },
  {
   "cell_type": "code",
   "execution_count": 13,
   "id": "e5019805",
   "metadata": {},
   "outputs": [],
   "source": [
    "#create a new graph\n",
    "g = Graph()"
   ]
  },
  {
   "cell_type": "code",
   "execution_count": 14,
   "id": "b3378e69",
   "metadata": {},
   "outputs": [
    {
     "name": "stdout",
     "output_type": "stream",
     "text": [
      "CPU times: total: 17 s\n",
      "Wall time: 17.1 s\n"
     ]
    }
   ],
   "source": [
    "%%time\n",
    "#iterate over the movies dataframe\n",
    "for index, row in people.iterrows():\n",
    "    #Create the node to add to the Graph\n",
    "    #the node has the namespace + the movie id as URI\n",
    "    Person = URIRef(PO[index])\n",
    "    # Add triples using store's add() method.\n",
    "    g.add((Person, RDF.type, PO.Person))\n",
    "    g.add((Person, PO['fullName'], Literal(row['name'], datatype=XSD.string)))\n",
    "    g.add((Person, PO['playerPosition'], Literal(row['position'], datatype=XSD.string)))\n",
    "    g.add((Person, PO['playerCode'], Literal(row['player_code'], datatype=XSD.string)))\n",
    "    g.add((Person, PO['clubID'], Literal(row['current_club_id'], datatype=XSD.integer)))                                                \n",
    "    g.add((Person, PO['lastSeason'], Literal(row['last_season'], datatype=XSD.gYear)))\n",
    "    \n",
    "    ## handle country\n",
    "    #there can be more than one country per competition\n",
    "    for c in str(row['country_of_citizenship']).split(','):\n",
    "        # check if the country exists\n",
    "        # country.index == x returns an array of booleans, thus we need to use the any() method\n",
    "        cName = c.strip()\n",
    "        if((countries.index == cName).any() == True):\n",
    "            #get the country code, convert to string and get the lower case to match the country codes in the ontology\n",
    "            code = str(countries[countries.index == cName]['Alpha-2 code'][0]).lower()\n",
    "            # create the RDF node\n",
    "            Country = URIRef(CNS[code])\n",
    "             # add the edge connecting the Competition and the Country\n",
    "            g.add((Person, PO['hasCountry'], Country))"
   ]
  },
  {
   "cell_type": "code",
   "execution_count": 16,
   "id": "633ad54b",
   "metadata": {},
   "outputs": [
    {
     "name": "stdout",
     "output_type": "stream",
     "text": [
      "--- saving serialization ---\n",
      "CPU times: total: 13.2 s\n",
      "Wall time: 13.2 s\n"
     ]
    }
   ],
   "source": [
    "%%time\n",
    "# print all the data in the Turtle format\n",
    "print(\"--- saving serialization ---\")\n",
    "with open(savePath + 'player.ttl', 'w', newline='', encoding='utf-8') as file:\n",
    "    file.write(g.serialize(format='turtle'))"
   ]
  },
  {
   "cell_type": "code",
   "execution_count": null,
   "id": "5c052add",
   "metadata": {},
   "outputs": [],
   "source": []
  }
 ],
 "metadata": {
  "kernelspec": {
   "display_name": "Python 3 (ipykernel)",
   "language": "python",
   "name": "python3"
  },
  "language_info": {
   "codemirror_mode": {
    "name": "ipython",
    "version": 3
   },
   "file_extension": ".py",
   "mimetype": "text/x-python",
   "name": "python",
   "nbconvert_exporter": "python",
   "pygments_lexer": "ipython3",
   "version": "3.11.4"
  }
 },
 "nbformat": 4,
 "nbformat_minor": 5
}
