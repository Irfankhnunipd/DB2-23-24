{
 "cells": [
  {
   "cell_type": "code",
   "execution_count": 1,
   "id": "8e1e3dcc",
   "metadata": {},
   "outputs": [],
   "source": [
    "# required libraries\n",
    "import os\n",
    "import pandas as pd\n",
    "import numpy as np\n",
    "from pathlib import Path\n",
    "# # Load the required libraries \n",
    "from rdflib import Graph, Literal, RDF, URIRef, Namespace\n",
    "# # rdflib knows about some namespaces, like FOAF \n",
    "from rdflib.namespace import FOAF, XSD \n",
    "# CHECK DATE \n",
    "import datetime"
   ]
  },
  {
   "cell_type": "code",
   "execution_count": 2,
   "id": "b7a496ed",
   "metadata": {},
   "outputs": [
    {
     "name": "stdout",
     "output_type": "stream",
     "text": [
      "Here is the path C:\\Users\\39344\\Desktop\n",
      "File paths are working perfectly.\n",
      "executed all lines\n"
     ]
    }
   ],
   "source": [
    "# parameters and URLs\"\n",
    "path = str(Path(os.path.abspath(os.getcwd())).parent.absolute())\n",
    "print(\"Here is the path \"+ path)\n",
    "path = 'C:/Users/39344/Desktop/semproject/csv'\n",
    "appearancesUrl = path + '/appearances.csv'\n",
    "clubGamesUrl = path + '/club_games.csv'\n",
    "clubUrl = path + '/clubs.csv'\n",
    "competitionsUrl = path + '/competitions.csv'\n",
    "gameEventsUrl = path + '/game_events.csv'\n",
    "gameLineupsUrl = path + '/game_lineups.csv'\n",
    "gamesUrl = path + '/games.csv'\n",
    "playerValuationsUrl = path + '/player_valuations.csv'\n",
    "playersUrl = path + '/players.csv'\n",
    "\n",
    "# country code\n",
    "countriesURL = path + '/wikipedia-iso-country-codes.csv'\n",
    "\n",
    "print(\"File paths are working perfectly.\")\n",
    "# saving folder\n",
    "savePath =  path + '/data/'\n",
    "print(\"executed all lines\")"
   ]
  },
  {
   "cell_type": "code",
   "execution_count": 3,
   "id": "e17a34d9",
   "metadata": {},
   "outputs": [
    {
     "name": "stdout",
     "output_type": "stream",
     "text": [
      "load csv files\n",
      "there is a problem\n"
     ]
    },
    {
     "data": {
      "text/plain": [
       "competition_code        object\n",
       "name                    object\n",
       "sub_type                object\n",
       "type                    object\n",
       "country_id               int32\n",
       "country                 object\n",
       "domestic_league_code    object\n",
       "confederation           object\n",
       "url                     object\n",
       "dtype: object"
      ]
     },
     "execution_count": 3,
     "metadata": {},
     "output_type": "execute_result"
    }
   ],
   "source": [
    "# Load the CSV files in memory\n",
    "\n",
    "print(\"load csv files\")\n",
    "comp = pd.read_csv(competitionsUrl, sep = ',', index_col = 'competition_id')\n",
    "print(\"there is a problem\")\n",
    "comp.astype({'country_id': 'int32'}).dtypes"
   ]
  },
  {
   "cell_type": "code",
   "execution_count": 4,
   "id": "98455e4b",
   "metadata": {},
   "outputs": [],
   "source": [
    "#load the country codes\\\n",
    "# we need to convert NaN values to something else otherwise NA strings are converted to NaN -> problem with Namibia\n",
    "countries = pd.read_csv(countriesURL, sep=',', index_col='Name', keep_default_na=False, na_values=['_'])"
   ]
  },
  {
   "cell_type": "code",
   "execution_count": 5,
   "id": "c540b146",
   "metadata": {},
   "outputs": [
    {
     "name": "stdout",
     "output_type": "stream",
     "text": [
      "<class 'pandas.core.frame.DataFrame'>\n",
      "Index: 43 entries, CIT to FRCH\n",
      "Data columns (total 9 columns):\n",
      " #   Column                Non-Null Count  Dtype \n",
      "---  ------                --------------  ----- \n",
      " 0   competition_code      43 non-null     object\n",
      " 1   name                  43 non-null     object\n",
      " 2   sub_type              43 non-null     object\n",
      " 3   type                  43 non-null     object\n",
      " 4   country_id            43 non-null     int64 \n",
      " 5   country               36 non-null     object\n",
      " 6   domestic_league_code  36 non-null     object\n",
      " 7   confederation         43 non-null     object\n",
      " 8   url                   43 non-null     object\n",
      "dtypes: int64(1), object(8)\n",
      "memory usage: 3.4+ KB\n"
     ]
    }
   ],
   "source": [
    "comp.info()"
   ]
  },
  {
   "cell_type": "code",
   "execution_count": 7,
   "id": "e785f6ee",
   "metadata": {},
   "outputs": [],
   "source": [
    "# Construct the country and the movie ontology namespaces not known by RDFlib\\n\",\n",
    "CNS = Namespace(\"http://eulersharp.sourceforge.net/2003/03swap/countries#\")\n",
    "CO = Namespace(\"http://www.dei.unipd.it/database2/competitionOntology#\")\n",
    "GM = Namespace(\"http://www.dei.unipd.it/database2/gameOntology#\")\n",
    "PO = Namespace(\"http://www.dei.unipd.it/database2/playersOntology#\")"
   ]
  },
  {
   "cell_type": "code",
   "execution_count": 8,
   "id": "6092eb51",
   "metadata": {},
   "outputs": [],
   "source": [
    "#create the graph\\\n",
    "g = Graph()\n",
    "# Bind the namespaces to a prefix for more readable output\\n\",\n",
    "g.bind(\"foaf\", FOAF)\n",
    "g.bind(\"xsd\", XSD)\n",
    "g.bind(\"countries\", CNS)\n",
    "g.bind(\"co\", CO)\n",
    "g.bind(\"gm\", GM)\n",
    "g.bind(\"po\", PO)"
   ]
  },
  {
   "cell_type": "code",
   "execution_count": 9,
   "id": "2f252d47",
   "metadata": {},
   "outputs": [],
   "source": [
    "# CHECK DATE\n",
    "import datetime"
   ]
  },
  {
   "cell_type": "code",
   "execution_count": 10,
   "id": "5b6c2170",
   "metadata": {},
   "outputs": [
    {
     "name": "stdout",
     "output_type": "stream",
     "text": [
      "CPU times: total: 31.2 ms\n",
      "Wall time: 32.3 ms\n"
     ]
    }
   ],
   "source": [
    "%%time\n",
    "#iterate over the movies dataframe\n",
    "for index, row in comp.iterrows():\n",
    "    #Create the node to add to the Graph\n",
    "    #the node has the namespace + the movie id as URI\n",
    "    Competition = URIRef(CO[index])\n",
    "    # Add triples using store's add() method.\n",
    "    g.add((Competition, RDF.type, CO.Competition))\n",
    "    g.add((Competition, CO['competitionName'], Literal(row['name'], datatype=XSD.string)))\n",
    "    g.add((Competition, CO['competitionType'], Literal(row['type'], datatype=XSD.string)))\n",
    "    g.add((Competition, CO['subType'], Literal(row['sub_type'], datatype=XSD.string)))\n",
    "    g.add((Competition, CO['domesticLeagueCode'], Literal(row['domestic_league_code'], datatype=XSD.string)))                                                \n",
    "    g.add((Competition, CO['country_id'], Literal(row['country_id'], datatype=XSD.integer)))\n",
    "    \n",
    "    ## handle country\n",
    "    #there can be more than one country per competition\n",
    "    for c in str(row['country']).split(','):\n",
    "        # check if the country exists\n",
    "        # country.index == x returns an array of booleans, thus we need to use the any() method\n",
    "        cName = c.strip()\n",
    "        if((countries.index == cName).any() == True):\n",
    "            #get the country code, convert to string and get the lower case to match the country codes in the ontology\n",
    "            code = str(countries[countries.index == cName]['Alpha-2 code'][0]).lower()\n",
    "            # create the RDF node\n",
    "            Country = URIRef(CNS[code])\n",
    "             # add the edge connecting the Competition and the Country\n",
    "            g.add((Competition, CO['hasCountry'], Country))"
   ]
  },
  {
   "cell_type": "code",
   "execution_count": 11,
   "id": "e71bc850",
   "metadata": {},
   "outputs": [
    {
     "name": "stdout",
     "output_type": "stream",
     "text": [
      "--- saving serialization ---\n",
      "CPU times: total: 15.6 ms\n",
      "Wall time: 12.2 ms\n"
     ]
    }
   ],
   "source": [
    "%%time\n",
    "# print all the data in the Turtle format\n",
    "print(\"--- saving serialization ---\")\n",
    "with open(savePath + 'competitions.ttl', 'w') as file:\n",
    "    file.write(g.serialize(format='turtle'))"
   ]
  },
  {
   "cell_type": "code",
   "execution_count": 12,
   "id": "965e9331",
   "metadata": {},
   "outputs": [
    {
     "name": "stdout",
     "output_type": "stream",
     "text": [
      "load csv files\n",
      "there is a problem\n"
     ]
    },
    {
     "data": {
      "text/plain": [
       "first_name                               object\n",
       "last_name                                object\n",
       "name                                     object\n",
       "last_season                               int32\n",
       "current_club_id                           int64\n",
       "player_code                              object\n",
       "country_of_birth                         object\n",
       "city_of_birth                            object\n",
       "country_of_citizenship                   object\n",
       "date_of_birth                            object\n",
       "sub_position                             object\n",
       "position                                 object\n",
       "foot                                     object\n",
       "height_in_cm                            float64\n",
       "market_value_in_eur                     float64\n",
       "highest_market_value_in_eur             float64\n",
       "contract_expiration_date                 object\n",
       "agent_name                               object\n",
       "image_url                                object\n",
       "url                                      object\n",
       "current_club_domestic_competition_id     object\n",
       "current_club_name                        object\n",
       "dtype: object"
      ]
     },
     "execution_count": 12,
     "metadata": {},
     "output_type": "execute_result"
    }
   ],
   "source": [
    "# Load the CSV files in memory\n",
    "\n",
    "print(\"load csv files\")\n",
    "players = pd.read_csv(playersUrl, sep = ',', index_col = 'player_id')\n",
    "print(\"there is a problem\")\n",
    "players.astype({'last_season': 'int32'}).dtypes"
   ]
  },
  {
   "cell_type": "code",
   "execution_count": 13,
   "id": "68ed1ed5",
   "metadata": {},
   "outputs": [
    {
     "name": "stdout",
     "output_type": "stream",
     "text": [
      "<class 'pandas.core.frame.DataFrame'>\n",
      "Index: 30302 entries, 598 to 925584\n",
      "Data columns (total 22 columns):\n",
      " #   Column                                Non-Null Count  Dtype  \n",
      "---  ------                                --------------  -----  \n",
      " 0   first_name                            28337 non-null  object \n",
      " 1   last_name                             30302 non-null  object \n",
      " 2   name                                  30302 non-null  object \n",
      " 3   last_season                           30302 non-null  int64  \n",
      " 4   current_club_id                       30302 non-null  int64  \n",
      " 5   player_code                           30302 non-null  object \n",
      " 6   country_of_birth                      27613 non-null  object \n",
      " 7   city_of_birth                         28099 non-null  object \n",
      " 8   country_of_citizenship                29759 non-null  object \n",
      " 9   date_of_birth                         30255 non-null  object \n",
      " 10  sub_position                          30130 non-null  object \n",
      " 11  position                              30302 non-null  object \n",
      " 12  foot                                  27913 non-null  object \n",
      " 13  height_in_cm                          28204 non-null  float64\n",
      " 14  market_value_in_eur                   19383 non-null  float64\n",
      " 15  highest_market_value_in_eur           28981 non-null  float64\n",
      " 16  contract_expiration_date              18835 non-null  object \n",
      " 17  agent_name                            14941 non-null  object \n",
      " 18  image_url                             30302 non-null  object \n",
      " 19  url                                   30302 non-null  object \n",
      " 20  current_club_domestic_competition_id  30302 non-null  object \n",
      " 21  current_club_name                     30302 non-null  object \n",
      "dtypes: float64(3), int64(2), object(17)\n",
      "memory usage: 5.3+ MB\n"
     ]
    }
   ],
   "source": [
    "players.info()"
   ]
  },
  {
   "cell_type": "code",
   "execution_count": null,
   "id": "f82fafc4",
   "metadata": {},
   "outputs": [],
   "source": [
    "%%time\n",
    "#iterate over the players dataframe\n",
    "for index, row in players.iterrows():\n",
    "    #Create the node to add to the Graph\n",
    "    #the node has the namespace + the player id as URI\n",
    "    Player = URIRef(PO[index])\n",
    "    # Add triples using store's add() method.\n",
    "    g.add((Player, RDF.type, PO.Player))\n",
    "    g.add((Player, PO['playerCode'], Literal(row['player_code'], datatype=XSD.string)))\n",
    "    g.add((Player, PO['fullName'], Literal(row['name'], datatype=XSD.string)))\n",
    "    g.add((Player, PO['playerPosition'], Literal(row['position'], datatype=XSD.string)))\n",
    "    g.add((Player, PO['lastSeason'], Literal(row['last_season'], datatype=XSD.gYear)))\n",
    "    try:\n",
    "        datetime.datetime.strptime(str(row['date_of_birth']), '%d-%m-%y')\n",
    "        g.add((Player, PO['DOB'], Literal(row['date_of_birth'], datatype=XSD.date)))\n",
    "    except ValueError:\n",
    "        # probably it's the year alone\n",
    "        # check length\n",
    "        if (len(row['date_of_birth'])==4):\n",
    "            #it is a year\n",
    "            g.add((Player, PO['DOB'], Literal(row['date_of_birth']+ \"-01-01\", datatype=XSD.date)))\n",
    "                                                     \n",
    "                                                     \n",
    "    g.add((Player, PO['current_club'], Literal(row['current_club_id'], datatype=XSD.integer)))\n",
    "    \n",
    "     ## handle country\n",
    "    #there can be more than one country per player\n",
    "    for c in str(row['country_of_citizenship']).split(','):\n",
    "        # check if the country exists\n",
    "        # country.index == x returns an array of booleans, thus we need to use the any() method\n",
    "        cName = c.strip()\n",
    "        if((countries.index == cName).any() == True):\n",
    "            #get the country code, convert to string and get the lower case to match the country codes in the ontology\n",
    "            code = str(countries[countries.index == cName]['Alpha-2 code'][0]).lower()\n",
    "            # create the RDF node\n",
    "            Country = URIRef(CNS[code])\n",
    "             # add the edge connecting the Movie and the Country\n",
    "            g.add((Player, PO['hasCountry'], Country))"
   ]
  },
  {
   "cell_type": "code",
   "execution_count": null,
   "id": "f730c760",
   "metadata": {},
   "outputs": [],
   "source": [
    "%%time\n",
    "# print all the data in the Turtle format\n",
    "print(\"--- saving serialization ---\")\n",
    "with open(savePath + 'players.ttl', 'w') as file:\n",
    "    file.write(g.serialize(format='turtle'))"
   ]
  }
 ],
 "metadata": {
  "kernelspec": {
   "display_name": "Python 3 (ipykernel)",
   "language": "python",
   "name": "python3"
  },
  "language_info": {
   "codemirror_mode": {
    "name": "ipython",
    "version": 3
   },
   "file_extension": ".py",
   "mimetype": "text/x-python",
   "name": "python",
   "nbconvert_exporter": "python",
   "pygments_lexer": "ipython3",
   "version": "3.11.4"
  }
 },
 "nbformat": 4,
 "nbformat_minor": 5
}
